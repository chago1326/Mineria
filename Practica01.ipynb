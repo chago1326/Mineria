{
  "nbformat": 4,
  "nbformat_minor": 0,
  "metadata": {
    "colab": {
      "provenance": [],
      "authorship_tag": "ABX9TyOXFUcEIM4aD0QvJ1KWKK9R",
      "include_colab_link": true
    },
    "kernelspec": {
      "name": "python3",
      "display_name": "Python 3"
    },
    "language_info": {
      "name": "python"
    }
  },
  "cells": [
    {
      "cell_type": "markdown",
      "metadata": {
        "id": "view-in-github",
        "colab_type": "text"
      },
      "source": [
        "<a href=\"https://colab.research.google.com/github/chago1326/Mineria/blob/main/Practica01.ipynb\" target=\"_parent\"><img src=\"https://colab.research.google.com/assets/colab-badge.svg\" alt=\"Open In Colab\"/></a>"
      ]
    },
    {
      "cell_type": "markdown",
      "source": [
        "Libreria"
      ],
      "metadata": {
        "id": "DG5CZmZPypvZ"
      }
    },
    {
      "cell_type": "code",
      "execution_count": 1,
      "metadata": {
        "id": "zkbO9jG0yWlB"
      },
      "outputs": [],
      "source": [
        "import pandas as pd\n",
        "import numpy as np\n",
        "import seaborn as sns\n",
        "import matplotlib.pyplot as plt\n",
        "from mpl_toolkits.mplot3d import Axes3D"
      ]
    },
    {
      "cell_type": "markdown",
      "source": [
        "Url Aeropuerto\n"
      ],
      "metadata": {
        "id": "Wtal0HYey0P4"
      }
    },
    {
      "cell_type": "code",
      "source": [
        "url = 'https://raw.githubusercontent.com/utn-frocha/datos/main/encuesta_aeropuerto.csv'\n",
        "df = pd.read_csv(url)\n",
        "print(df);"
      ],
      "metadata": {
        "id": "mYkGJTxuy27G"
      },
      "execution_count": null,
      "outputs": []
    },
    {
      "cell_type": "markdown",
      "source": [
        "•\tCuál es la cantidad de Hombre y Mujeres del conjunto de datos"
      ],
      "metadata": {
        "id": "XMca85tMy_-C"
      }
    },
    {
      "cell_type": "code",
      "source": [
        "cantidad_hombres_mujeres = df['Gender'].value_counts()\n",
        "print(cantidad_hombres_mujeres)"
      ],
      "metadata": {
        "id": "PbHZCvGOzBkO"
      },
      "execution_count": null,
      "outputs": []
    },
    {
      "cell_type": "markdown",
      "source": [
        "•\tCual es la edad promedio del conjunto de datos"
      ],
      "metadata": {
        "id": "osSPUVxzz9Cn"
      }
    },
    {
      "cell_type": "code",
      "source": [
        "edad_promedio = df['Age'].mean()\n",
        "print(edad_promedio)"
      ],
      "metadata": {
        "colab": {
          "base_uri": "https://localhost:8080/"
        },
        "id": "A2loW16l0BFu",
        "outputId": "e48369ed-bc6a-4859-9cff-3087785661e1"
      },
      "execution_count": 12,
      "outputs": [
        {
          "output_type": "stream",
          "name": "stdout",
          "text": [
            "39.42795657530028\n"
          ]
        }
      ]
    },
    {
      "cell_type": "markdown",
      "source": [
        "•\tCuál es la edad promedio de hombres y mujeres"
      ],
      "metadata": {
        "id": "lJCeFqli0U2E"
      }
    },
    {
      "cell_type": "code",
      "source": [
        "edad_promedio_por_sexo = df.groupby('Gender')['Age'].mean()\n",
        "print(edad_promedio_por_sexo)"
      ],
      "metadata": {
        "id": "6qxybIgJ0XVh"
      },
      "execution_count": null,
      "outputs": []
    },
    {
      "cell_type": "markdown",
      "source": [
        "•\tCuál es la distancia mínima y máxima agrupado por “Customer Type”"
      ],
      "metadata": {
        "id": "oSAnrqIs0l0P"
      }
    },
    {
      "cell_type": "code",
      "source": [
        "distancia_min_max_por_cliente = df.groupby('Customer Type')['Flight Distance'].agg(['min', 'max'])\n",
        "print(distancia_min_max_por_cliente)"
      ],
      "metadata": {
        "id": "G4vsftlM0r1V"
      },
      "execution_count": null,
      "outputs": []
    },
    {
      "cell_type": "markdown",
      "source": [
        "•\tCual es la mediana de distancia de vuelo por “Type of Travel”"
      ],
      "metadata": {
        "id": "blb6ZY3H1Udv"
      }
    },
    {
      "cell_type": "code",
      "source": [
        "mediana_distancia_por_viaje = df.groupby('Type of Travel')['Flight Distance'].median()\n",
        "print(mediana_distancia_por_viaje)"
      ],
      "metadata": {
        "id": "gNZPfyti1V6e"
      },
      "execution_count": null,
      "outputs": []
    },
    {
      "cell_type": "markdown",
      "source": [
        "•\tCual es la cantidad de hombres y mujeres por “satisfaction”"
      ],
      "metadata": {
        "id": "w85xn29S1fQg"
      }
    },
    {
      "cell_type": "code",
      "source": [
        "frecuencia_por_satisfaccion_y_sexo = pd.crosstab(index=df['satisfaction'], columns=df['Gender'])\n",
        "print(frecuencia_por_satisfaccion_y_sexo)"
      ],
      "metadata": {
        "id": "rfG2o6_f1g_K"
      },
      "execution_count": null,
      "outputs": []
    },
    {
      "cell_type": "markdown",
      "source": [
        "•\tCuantas personas del  Type of Travel  = “Business” le dieron una calificación de 5 al “Inflight wifi service”"
      ],
      "metadata": {
        "id": "3MGo3c3p1wVv"
      }
    },
    {
      "cell_type": "code",
      "source": [
        "calificacion = df[(df['Type of Travel'] == 'Business') & (df['Inflight wifi service'] == 5)]['Inflight wifi service'].count()\n",
        "print(calificacion)"
      ],
      "metadata": {
        "id": "qKyZ3ohu1zmp"
      },
      "execution_count": null,
      "outputs": []
    },
    {
      "cell_type": "markdown",
      "source": [
        "•\tCual es la cantidad de personas por “Class”"
      ],
      "metadata": {
        "id": "vHYSI9822FvS"
      }
    },
    {
      "cell_type": "code",
      "source": [
        "frecuencia_por_clase = df['Class'].value_counts()\n",
        "print(frecuencia_por_clase)"
      ],
      "metadata": {
        "id": "xUdb3XIe2IS2"
      },
      "execution_count": null,
      "outputs": []
    },
    {
      "cell_type": "markdown",
      "source": [
        "•\tCuál es el porcentaje de hombres y mujeres que usan en clase “Eco Plus”"
      ],
      "metadata": {
        "id": "ySGuUNQv2Tb9"
      }
    },
    {
      "cell_type": "code",
      "source": [
        "df_eco_plus = df[df['Class'] == 'Eco Plus']\n",
        "porcentaje_hombres = (df_eco_plus.groupby('Gender').count()['Class']['Male'] / len(df_eco_plus)) * 100\n",
        "porcentaje_mujeres = (df_eco_plus.groupby('Gender').count()['Class']['Female'] / len(df_eco_plus)) * 100\n",
        "print(\"Porcentaje de hombres en clase Eco Plus: {:.2f}%\".format(porcentaje_hombres))\n",
        "print(\"Porcentaje de mujeres en clase Eco Plus: {:.2f}%\".format(porcentaje_mujeres))"
      ],
      "metadata": {
        "colab": {
          "base_uri": "https://localhost:8080/"
        },
        "id": "QCXnVIgM2UUs",
        "outputId": "c9721cd0-60ae-4d14-fa2e-7b012984c7d5"
      },
      "execution_count": 23,
      "outputs": [
        {
          "output_type": "stream",
          "name": "stdout",
          "text": [
            "Porcentaje de hombres en clase Eco Plus: 47.23%\n",
            "Porcentaje de mujeres en clase Eco Plus: 52.77%\n"
          ]
        }
      ]
    },
    {
      "cell_type": "markdown",
      "source": [
        "•\tCuál es el porcentaje de hombres y mujeres que le dan una clasificación de 5 a “Food and drink”"
      ],
      "metadata": {
        "id": "MYI5Dw8w2ix0"
      }
    },
    {
      "cell_type": "code",
      "source": [
        "df_f5 = df[df['Food and drink'] == 5]\n",
        "porcentaje_hombres = (df_f5.groupby('Gender').count()['Food and drink']['Male'] / len(df_f5)) * 100\n",
        "porcentaje_mujeres = (df_f5.groupby('Gender').count()['Food and drink']['Female'] / len(df_f5)) * 100\n",
        "print(\"Porcentaje de hombres con clasificación 5 en Food and drink: {:.2f}%\".format(porcentaje_hombres))\n",
        "print(\"Porcentaje de mujeres con clasificación 5 en Food and drink: {:.2f}%\".format(porcentaje_mujeres))"
      ],
      "metadata": {
        "id": "2XokcGju2nrj"
      },
      "execution_count": null,
      "outputs": []
    },
    {
      "cell_type": "markdown",
      "source": [
        "•\tCual es el promedio de edad de los pasajeros que le dan una clasificación entre 4 y 5 a “Inflight wifi service”"
      ],
      "metadata": {
        "id": "jlgi76cl26z0"
      }
    },
    {
      "cell_type": "code",
      "source": [
        "df_wifi = df[(df['Inflight wifi service'] >= 4) & (df['Inflight wifi service'] <= 5)]\n",
        "promedio_edad = df_wifi['Age'].mean()\n",
        "print(\"El promedio de edad de los pasajeros que le dan una clasificación entre 4 y 5 a Inflight wifi service es: {:.2f}\".format(promedio_edad))"
      ],
      "metadata": {
        "id": "M0l1Pnl63Jn4"
      },
      "execution_count": null,
      "outputs": []
    }
  ]
}